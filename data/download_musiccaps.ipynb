{
  "cells": [
    {
      "attachments": {},
      "cell_type": "markdown",
      "metadata": {
        "id": "KuxtZ-mfUZTJ"
      },
      "source": [
        "# Downloading Clips from the MusicCaps Dataset\n",
        "\n",
        "In this notebook, we see how you can use `yt-dlp` to download clips from the [MusicCaps](https://huggingface.co/datasets/google/MusicCaps) dataset from Google. The MusicCaps dataset contains music and their associated text captions. You could use a dataset like this to train a text-to-audio generation model 😉.\n",
        "\n",
        "Once we've downloaded the clips, we'll explore them using a [Gradio](https://gradio.app/) interface.\n",
        "\n",
        "If you like this notebook:\n",
        "\n",
        "  - consider giving the [repo](https://github.com/nateraw/download-musiccaps-dataset) a star ⭐️\n",
        "  - consider following me on Github [@nateraw](https://github.com/nateraw)"
      ]
    },
    {
      "cell_type": "code",
      "execution_count": 1,
      "metadata": {
        "id": "68SO8YxOProJ"
      },
      "outputs": [],
      "source": [
        "%%capture\n",
        "! pip install datasets[audio] yt-dlp\n",
        "\n",
        "# For the interactive interface we'll need gradio\n",
        "! pip install gradio"
      ]
    },
    {
      "cell_type": "code",
      "execution_count": 18,
      "metadata": {
        "id": "SeZLV1PCPyxW"
      },
      "outputs": [],
      "source": [
        "import subprocess\n",
        "import os\n",
        "from pathlib import Path\n",
        "\n",
        "from datasets import load_dataset, Audio\n",
        "\n",
        "\n",
        "def download_clip(\n",
        "    video_identifier,\n",
        "    output_filename,\n",
        "    start_time,\n",
        "    end_time,\n",
        "    tmp_dir='./tmp/musiccaps',\n",
        "    num_attempts=5,\n",
        "    url_base='https://www.youtube.com/watch?v='\n",
        "):\n",
        "    status = False\n",
        "    \n",
        "    if int(start_time) > 15:\n",
        "        start_time = str(int(start_time) - 15)\n",
        "        end_time = str(int(end_time) + 15)\n",
        "    else:\n",
        "        end_time = str(int(end_time) + 30)\n",
        "\n",
        "    command = f\"\"\"\n",
        "        yt-dlp --quiet --no-warnings -x --audio-format wav -f bestaudio -o \"{output_filename}\" --download-sections \"*{start_time}-{end_time}\" {url_base}{video_identifier}\n",
        "    \"\"\".strip()\n",
        "\n",
        "    attempts = 0\n",
        "    while True:\n",
        "        try:\n",
        "            output = subprocess.check_output(command, shell=True,\n",
        "                                                stderr=subprocess.STDOUT)\n",
        "        except subprocess.CalledProcessError as err:\n",
        "            attempts += 1\n",
        "            if attempts == num_attempts:\n",
        "                return status, err.output\n",
        "        else:\n",
        "            break\n",
        "\n",
        "    # Check if the video was successfully saved.\n",
        "    status = os.path.exists(output_filename)\n",
        "    return status, 'Downloaded'\n",
        "\n",
        "\n",
        "def main(\n",
        "    data_dir: str,\n",
        "    sampling_rate: int = 44100,\n",
        "    limit: int = None,\n",
        "    num_proc: int = 1,\n",
        "    writer_batch_size: int = 1000,\n",
        "):\n",
        "    \"\"\"\n",
        "    Download the clips within the MusicCaps dataset from YouTube.\n",
        "    Args:\n",
        "        data_dir: Directory to save the clips to.\n",
        "        sampling_rate: Sampling rate of the audio clips.\n",
        "        limit: Limit the number of examples to download.\n",
        "        num_proc: Number of processes to use for downloading.\n",
        "        writer_batch_size: Batch size for writing the dataset. This is per process.\n",
        "    \"\"\"\n",
        "\n",
        "    ds = load_dataset('google/MusicCaps', split='train')\n",
        "    if limit is not None:\n",
        "        print(f\"Limiting to {limit} examples\")\n",
        "        ds = ds.select(range(limit))\n",
        "\n",
        "    data_dir = Path(data_dir)\n",
        "    data_dir.mkdir(exist_ok=True, parents=True)\n",
        "\n",
        "    def process(example):\n",
        "        outfile_path = str(data_dir / f\"{example['ytid']}.wav\")\n",
        "        status = True\n",
        "        if not os.path.exists(outfile_path):\n",
        "            status = False\n",
        "            status, log = download_clip(\n",
        "                example['ytid'],\n",
        "                outfile_path,\n",
        "                example['start_s'],\n",
        "                example['end_s'],\n",
        "            )\n",
        "\n",
        "        example['audio'] = outfile_path\n",
        "        example['download_status'] = status\n",
        "        return example\n",
        "\n",
        "    return ds.map(\n",
        "        process,\n",
        "        num_proc=num_proc,\n",
        "        writer_batch_size=writer_batch_size,\n",
        "        keep_in_memory=False\n",
        "    ).cast_column('audio', Audio(sampling_rate=sampling_rate))"
      ]
    },
    {
      "attachments": {},
      "cell_type": "markdown",
      "metadata": {
        "id": "SfuUiBBwQkG4"
      },
      "source": [
        "## Load the Dataset\n",
        "\n",
        "Here we are limiting to the first 32 examples. Since Colab is constrained to 2 cores, downloading the whole dataset here would take hours.\n",
        "\n",
        "When running this on your own machine:\n",
        "  - you can set `limit=None` to download + process the full dataset. Feel free to do that here in Colab, it'll just take a long time.\n",
        "  - you should increase the `num_proc`, which will speed things up substantially\n",
        "  - If you run out of memory, try reducing the `writer_batch_size`, as by default, it will keep 1000 examples in memory *per worker*."
      ]
    },
    {
      "cell_type": "code",
      "execution_count": 19,
      "metadata": {
        "id": "FV-nFNShP7Xd"
      },
      "outputs": [
        {
          "name": "stderr",
          "output_type": "stream",
          "text": [
            "Downloading readme: 100%|██████████| 5.06k/5.06k [00:00<00:00, 7.34MB/s]\n"
          ]
        },
        {
          "name": "stdout",
          "output_type": "stream",
          "text": [
            "Downloading and preparing dataset csv/google--MusicCaps to /home/fsuser/.cache/huggingface/datasets/google___csv/google--MusicCaps-bedc2a0fd7888f2f/0.0.0/eea64c71ca8b46dd3f537ed218fc9bf495d5707789152eb2764f5c78fa66d59d...\n"
          ]
        },
        {
          "name": "stderr",
          "output_type": "stream",
          "text": [
            "Downloading data: 100%|██████████| 2.94M/2.94M [00:00<00:00, 19.2MB/s]\n",
            "Downloading data files: 100%|██████████| 1/1 [00:01<00:00,  1.57s/it]\n",
            "Extracting data files: 100%|██████████| 1/1 [00:00<00:00, 698.82it/s]\n",
            "                                                        "
          ]
        },
        {
          "name": "stdout",
          "output_type": "stream",
          "text": [
            "Dataset csv downloaded and prepared to /home/fsuser/.cache/huggingface/datasets/google___csv/google--MusicCaps-bedc2a0fd7888f2f/0.0.0/eea64c71ca8b46dd3f537ed218fc9bf495d5707789152eb2764f5c78fa66d59d. Subsequent calls will reuse this data.\n"
          ]
        },
        {
          "name": "stderr",
          "output_type": "stream",
          "text": [
            "                                                                             \r"
          ]
        }
      ],
      "source": [
        "ds = main('./music_data', num_proc=16, limit=None)"
      ]
    },
    {
      "attachments": {},
      "cell_type": "markdown",
      "metadata": {
        "id": "q4oDA-94RcOa"
      },
      "source": [
        "Let's explore the samples using a quick Gradio Interface 🤗"
      ]
    },
    {
      "cell_type": "code",
      "execution_count": null,
      "metadata": {
        "id": "yYOHs59ISo-4"
      },
      "outputs": [],
      "source": [
        "import gradio as gr\n",
        "\n",
        "def get_example(idx):\n",
        "    ex = ds[idx]\n",
        "    return ex['audio']['path'], ex['caption']\n",
        "\n",
        "gr.Interface(\n",
        "    get_example,\n",
        "    inputs=gr.Slider(0, len(ds) - 1, value=0, step=1),\n",
        "    outputs=['audio', 'textarea'],\n",
        "    live=True\n",
        ").launch()"
      ]
    },
    {
      "cell_type": "code",
      "execution_count": 12,
      "metadata": {},
      "outputs": [
        {
          "name": "stdout",
          "output_type": "stream",
          "text": [
            "{'ytid': '-0Gj8-vB1q4', 'start_s': 30, 'end_s': 40, 'audioset_positive_labels': '/m/0140xf,/m/02cjck,/m/04rlf', 'aspect_list': \"['low quality', 'sustained strings melody', 'soft female vocal', 'mellow piano melody', 'sad', 'soulful', 'ballad']\", 'caption': 'The low quality recording features a ballad song that contains sustained strings, mellow piano melody and soft female vocal singing over it. It sounds sad and soulful, like something you would hear at Sunday services.', 'author_id': 4, 'is_balanced_subset': False, 'is_audioset_eval': True}\n"
          ]
        }
      ],
      "source": [
        "import pandas as pd\n",
        "df_data = pd.read_csv('/home/fsuser/MusicNet/audiocraft/data/musiccaps-public.csv')\n",
        "data = df_data.to_dict(orient='records')\n",
        "print(data[0])\n",
        "for d in data:\n",
        "    fName = '/home/fsuser/MusicNet/audiocraft/data/music_data/' + d['ytid'] + \".txt\"\n",
        "    with open(fName, 'w') as f:\n",
        "        f.write(d['caption'])"
      ]
    },
    {
      "cell_type": "code",
      "execution_count": null,
      "metadata": {},
      "outputs": [],
      "source": []
    }
  ],
  "metadata": {
    "colab": {
      "provenance": []
    },
    "kernelspec": {
      "display_name": "Python 3",
      "name": "python3"
    },
    "language_info": {
      "codemirror_mode": {
        "name": "ipython",
        "version": 3
      },
      "file_extension": ".py",
      "mimetype": "text/x-python",
      "name": "python",
      "nbconvert_exporter": "python",
      "pygments_lexer": "ipython3",
      "version": "3.10.11"
    }
  },
  "nbformat": 4,
  "nbformat_minor": 0
}
